{
 "cells": [
  {
   "cell_type": "markdown",
   "metadata": {},
   "source": [
    "## LAB 10"
   ]
  },
  {
   "cell_type": "code",
   "execution_count": 2,
   "metadata": {},
   "outputs": [],
   "source": [
    "import pandas as pa\n",
    "import numpy as np"
   ]
  },
  {
   "cell_type": "markdown",
   "metadata": {},
   "source": [
    "1. Create the following:\n",
    "a.empty series\n",
    "b.series from an array\n",
    "c.series from dictionary\n",
    "d.scalar series\n"
   ]
  },
  {
   "cell_type": "code",
   "execution_count": 61,
   "metadata": {},
   "outputs": [
    {
     "name": "stdout",
     "output_type": "stream",
     "text": [
      "Series([], dtype: float64)\n"
     ]
    },
    {
     "name": "stderr",
     "output_type": "stream",
     "text": [
      "<ipython-input-61-74f7b840a9aa>:2: DeprecationWarning: The default dtype for empty Series will be 'object' instead of 'float64' in a future version. Specify a dtype explicitly to silence this warning.\n",
      "  s1 = pa.Series()\n"
     ]
    }
   ],
   "source": [
    "#empty series\n",
    "s1 = pa.Series()\n",
    "print(s1)"
   ]
  },
  {
   "cell_type": "code",
   "execution_count": 25,
   "metadata": {},
   "outputs": [
    {
     "name": "stdout",
     "output_type": "stream",
     "text": [
      "0    1\n",
      "1    2\n",
      "2    3\n",
      "3    4\n",
      "4    5\n",
      "dtype: int32\n"
     ]
    }
   ],
   "source": [
    "#series from an array\n",
    "s2 = np.array([1,2,3,4,5])\n",
    "d1 = pa.Series(s2)\n",
    "print(d1)\n",
    "\n"
   ]
  },
  {
   "cell_type": "code",
   "execution_count": 24,
   "metadata": {},
   "outputs": [
    {
     "name": "stdout",
     "output_type": "stream",
     "text": [
      "a    1\n",
      "b    2\n",
      "c    3\n",
      "dtype: int64\n"
     ]
    }
   ],
   "source": [
    "#series from dictionary\n",
    "s3 = {'a':1,'b':2,'c':3}\n",
    "d2 = pa.Series(s3)\n",
    "print(d2)\n"
   ]
  },
  {
   "cell_type": "code",
   "execution_count": 60,
   "metadata": {},
   "outputs": [
    {
     "name": "stdout",
     "output_type": "stream",
     "text": [
      "1    1\n",
      "2    1\n",
      "3    1\n",
      "4    1\n",
      "5    1\n",
      "6    1\n",
      "dtype: int64\n"
     ]
    }
   ],
   "source": [
    "\n",
    "#series from scalar series\n",
    "s = pa.Series(1,index = [1,2,3,4,5,6])\n",
    "print(s)"
   ]
  },
  {
   "cell_type": "markdown",
   "metadata": {},
   "source": [
    "2. Create indexed series for above b-d points\n"
   ]
  },
  {
   "cell_type": "code",
   "execution_count": 3,
   "metadata": {},
   "outputs": [
    {
     "name": "stdout",
     "output_type": "stream",
     "text": [
      "a    1\n",
      "b    2\n",
      "c    3\n",
      "d    4\n",
      "e    5\n",
      "dtype: int64\n"
     ]
    }
   ],
   "source": [
    "s2 = np.array([1,2,3,4,5])\n",
    "d1 = pa.Series(s2)\n",
    "I1 = pa.Series([1,2,3,4,5], index = ['a','b','c','d','e'])\n",
    "print(I1)"
   ]
  },
  {
   "cell_type": "code",
   "execution_count": 8,
   "metadata": {},
   "outputs": [
    {
     "name": "stdout",
     "output_type": "stream",
     "text": [
      "a    1\n",
      "b    2\n",
      "c    3\n",
      "dtype: int64\n"
     ]
    }
   ],
   "source": [
    "s3 = {'a':1,'b':2,'c':3}\n",
    "I2 = pa.Series( s3, index = ['a','b','c'])\n",
    "print(I2)"
   ]
  },
  {
   "cell_type": "code",
   "execution_count": 11,
   "metadata": {},
   "outputs": [
    {
     "name": "stdout",
     "output_type": "stream",
     "text": [
      "2    1\n",
      "3    1\n",
      "4    1\n",
      "5    1\n",
      "6    1\n",
      "dtype: int64\n"
     ]
    }
   ],
   "source": [
    "s = pa.Series(1,index = [2,3,4,5,6])\n",
    "print(s)\n"
   ]
  },
  {
   "cell_type": "markdown",
   "metadata": {},
   "source": [
    "3. Retrieve elements from the series using \n",
    "a.Index names\n",
    "b.Index numbers\n",
    "c.Slicing\n"
   ]
  },
  {
   "cell_type": "code",
   "execution_count": 13,
   "metadata": {},
   "outputs": [
    {
     "name": "stdout",
     "output_type": "stream",
     "text": [
      "2\n",
      "4\n",
      "a    1\n",
      "b    2\n",
      "c    3\n",
      "d    4\n",
      "dtype: int64\n"
     ]
    }
   ],
   "source": [
    "s = pa.Series([1,2,3,4,5],index = ['a','b','c','d','e'])\n",
    "print(s[1])\n",
    "print(s['d'])\n",
    "print(s[:4])\n"
   ]
  },
  {
   "cell_type": "markdown",
   "metadata": {},
   "source": [
    "4. Create a DataFrame using the following:\n",
    "a.Empty DataFrame\n",
    "b.DataFrame using list\n",
    "c.DataFrame using dictionary\n",
    "d.DataFrame using series\n"
   ]
  },
  {
   "cell_type": "code",
   "execution_count": 20,
   "metadata": {},
   "outputs": [
    {
     "name": "stdout",
     "output_type": "stream",
     "text": [
      "Empty DataFrame\n",
      "Columns: []\n",
      "Index: []\n"
     ]
    }
   ],
   "source": [
    "#Empty DataFrame\n",
    "df = pa.DataFrame()\n",
    "print(df)\n",
    "\n",
    "\n",
    "\n"
   ]
  },
  {
   "cell_type": "code",
   "execution_count": 19,
   "metadata": {},
   "outputs": [
    {
     "name": "stdout",
     "output_type": "stream",
     "text": [
      "   0\n",
      "0  1\n",
      "1  2\n",
      "2  3\n",
      "3  4\n",
      "4  5\n"
     ]
    }
   ],
   "source": [
    "#DataFrame using list \n",
    "d1 = [1,2,3,4,5]\n",
    "df1 = pa.DataFrame(d1)\n",
    "print(df1)\n"
   ]
  },
  {
   "cell_type": "code",
   "execution_count": 18,
   "metadata": {},
   "outputs": [
    {
     "name": "stdout",
     "output_type": "stream",
     "text": [
      "     Name  Course\n",
      "0   Tisha  B.Tech\n",
      "1  Raghav  B.Tech\n"
     ]
    }
   ],
   "source": [
    "#DataFrame using dictionary \n",
    "d2 = {'Name' : ['Tisha','Raghav'], 'Course' : ['B.Tech','B.Tech']}\n",
    "df2 = pa.DataFrame(d2)\n",
    "print(df2)\n"
   ]
  },
  {
   "cell_type": "code",
   "execution_count": 21,
   "metadata": {},
   "outputs": [
    {
     "name": "stdout",
     "output_type": "stream",
     "text": [
      "   One  Two\n",
      "a  1.0  NaN\n",
      "b  2.0  NaN\n",
      "c  3.0  NaN\n",
      "d  NaN  4.0\n",
      "e  NaN  5.0\n",
      "f  NaN  6.0\n"
     ]
    }
   ],
   "source": [
    "#DataFrame using series\n",
    "d = {'One' :pa.Series([1,2,3], index = ['a','b','c']),\n",
    "    'Two' :pa.Series([4,5,6], index = ['d','e','f'])}\n",
    "df3 = pa.DataFrame(d)\n",
    "print(df3)"
   ]
  },
  {
   "cell_type": "markdown",
   "metadata": {},
   "source": [
    "5. Create 3-4 four colums in a DataFrame for Q4 b-d points\n"
   ]
  },
  {
   "cell_type": "code",
   "execution_count": 17,
   "metadata": {},
   "outputs": [
    {
     "name": "stdout",
     "output_type": "stream",
     "text": [
      "Adding a new column by passing as Series:\n",
      "   0  tisha\n",
      "0  1    NaN\n",
      "1  2   10.0\n",
      "2  3   20.0\n",
      "3  4   30.0\n",
      "4  5    NaN\n"
     ]
    }
   ],
   "source": [
    "\n",
    "d1 = [1,2,3,4,5]\n",
    "df1 = pa.DataFrame(d1)\n",
    "print (\"Adding a new column by passing as Series:\")\n",
    "df1['tisha'] = pa.Series([10,20,30],index=[1,2,3])\n",
    "print (df1)\n",
    "\n"
   ]
  },
  {
   "cell_type": "code",
   "execution_count": 42,
   "metadata": {},
   "outputs": [
    {
     "name": "stdout",
     "output_type": "stream",
     "text": [
      "Adding a new column by passing as Series:\n",
      "     Name  Course Spc.\n",
      "0   Tisha  B.Tech  NaN\n",
      "1  Raghav  B.Tech  NaN\n"
     ]
    }
   ],
   "source": [
    "d2 = {'Name' : ['Tisha','Raghav'], 'Course' : ['B.Tech','B.Tech']}\n",
    "df2 = pa.DataFrame(d2)\n",
    "print (\"Adding a new column by passing as Series:\")\n",
    "df2['Spc.'] = pa.Series([\"CSTI\",\"GAG\"], index = ['Name','Course'])\n",
    "print(df2)"
   ]
  },
  {
   "cell_type": "code",
   "execution_count": 3,
   "metadata": {},
   "outputs": [
    {
     "name": "stdout",
     "output_type": "stream",
     "text": [
      "Adding a new column by passing as Series:\n",
      "   One  Two  Three\n",
      "a  0.0  NaN      6\n",
      "b  1.0  NaN      7\n",
      "c  2.0  NaN      8\n",
      "d  NaN  3.0      9\n",
      "e  NaN  4.0     10\n",
      "f  NaN  5.0     11\n"
     ]
    }
   ],
   "source": [
    "d = {'One' :pa.Series([0,1,2], index = ['a','b','c']),\n",
    "    'Two' :pa.Series([3,4,5], index = ['d','e','f'])}\n",
    "df3 = pa.DataFrame(d)\n",
    "print (\"Adding a new column by passing as Series:\")\n",
    "df3['Three'] = pa.Series([6,7,8,9,10,11], index = ['a','b','c','d','e','f'])\n",
    "print(df3)\n",
    "\n"
   ]
  },
  {
   "cell_type": "markdown",
   "metadata": {},
   "source": [
    "6. Add index to all the rows in Q5\n"
   ]
  },
  {
   "cell_type": "code",
   "execution_count": 31,
   "metadata": {},
   "outputs": [
    {
     "name": "stdout",
     "output_type": "stream",
     "text": [
      "   0  tisha\n",
      "0  1    NaN\n",
      "1  2   10.0\n",
      "2  3   20.0\n",
      "3  4   30.0\n",
      "4  5    NaN\n",
      "After adding index : \n",
      "    0  tisha\n",
      "A NaN    NaN\n",
      "B NaN    NaN\n",
      "C NaN    NaN\n"
     ]
    }
   ],
   "source": [
    "print (df1)\n",
    "print(\"After adding index : \")\n",
    "di3 = pa.DataFrame(df1, index = ['A','B','C'])\n",
    "print(di3)\n"
   ]
  },
  {
   "cell_type": "code",
   "execution_count": 14,
   "metadata": {},
   "outputs": [
    {
     "name": "stdout",
     "output_type": "stream",
     "text": [
      "Adding a new column by passing as Series:\n",
      "     Name  Course Spc.\n",
      "0   Tisha  B.Tech  NaN\n",
      "1  Raghav  B.Tech  NaN\n",
      "\n",
      " After adding index : \n",
      "\n",
      "     Name  Course Spc.\n",
      "1  Raghav  B.Tech  NaN\n",
      "2     NaN     NaN  NaN\n",
      "3     NaN     NaN  NaN\n"
     ]
    }
   ],
   "source": [
    "d2 = {'Name' : ['Tisha','Raghav'], 'Course' : ['B.Tech','B.Tech']}\n",
    "df2 = pa.DataFrame(d2)\n",
    "print (\"Adding a new column by passing as Series:\")\n",
    "df2['Spc.'] = pa.Series([\"CSTI\",\"GAG\"], index = ['Name','Course'])\n",
    "print(df2)\n",
    "\n",
    "print(\"\\n After adding index : \\n\")\n",
    "\n",
    "di2 = pa.DataFrame(df2, index = [1,2,3])\n",
    "print(di2)"
   ]
  },
  {
   "cell_type": "code",
   "execution_count": 9,
   "metadata": {},
   "outputs": [
    {
     "name": "stdout",
     "output_type": "stream",
     "text": [
      "Adding a new column by passing as Series:\n",
      "After adding index : \n",
      "   One  Two  Three\n",
      "A  NaN  NaN    NaN\n",
      "B  NaN  NaN    NaN\n",
      "C  NaN  NaN    NaN\n",
      "D  NaN  NaN    NaN\n",
      "E  NaN  NaN    NaN\n"
     ]
    }
   ],
   "source": [
    "dindex1 = {'One' :pa.Series([0,1,2], index = ['a','b','c']),\n",
    "    'Two' :pa.Series([3,4,5], index = ['d','e','f']),\n",
    "      'Three': pa.Series([6,7,8,9,10,11], index = ['a','b','c','d','e','f'])}\n",
    "dindex_1 = pa.DataFrame(dindex1)\n",
    "\n",
    "print(\"After adding index : \")\n",
    "di1 = pa.DataFrame(dindex_1, index = ['A','B','C','D','E'])\n",
    "print(di1)"
   ]
  },
  {
   "cell_type": "markdown",
   "metadata": {},
   "source": [
    "7. Display all the values from the DataFrame mentioned in Q6 using index and index name for :\n",
    "   a.Second row values\n",
    "   b.Second column values\n"
   ]
  },
  {
   "cell_type": "code",
   "execution_count": null,
   "metadata": {},
   "outputs": [],
   "source": [
    "print (df['one'])"
   ]
  },
  {
   "cell_type": "markdown",
   "metadata": {},
   "source": [
    "8. Perform slicing by displaying 3rd and 4th row on the DataFrame\n"
   ]
  },
  {
   "cell_type": "code",
   "execution_count": 16,
   "metadata": {},
   "outputs": [
    {
     "name": "stdout",
     "output_type": "stream",
     "text": [
      "   One  Two\n",
      "c  2.0  NaN\n",
      "d  NaN  3.0\n"
     ]
    }
   ],
   "source": [
    "di1 = pa.DataFrame(d)\n",
    "print (di1[2:4])\n"
   ]
  },
  {
   "cell_type": "markdown",
   "metadata": {},
   "source": [
    "9. Delete a row\n"
   ]
  },
  {
   "cell_type": "code",
   "execution_count": 17,
   "metadata": {},
   "outputs": [
    {
     "name": "stdout",
     "output_type": "stream",
     "text": [
      "   One  Two\n",
      "b  1.0  NaN\n",
      "c  2.0  NaN\n",
      "d  NaN  3.0\n",
      "e  NaN  4.0\n",
      "f  NaN  5.0\n"
     ]
    }
   ],
   "source": [
    "di2 = di1.drop('a')\n",
    "print(di2)"
   ]
  },
  {
   "cell_type": "markdown",
   "metadata": {},
   "source": [
    "10. Delete a column\n"
   ]
  },
  {
   "cell_type": "code",
   "execution_count": 27,
   "metadata": {},
   "outputs": [
    {
     "name": "stdout",
     "output_type": "stream",
     "text": [
      "Deleting the first column using DEL function:\n",
      "  Spc.\n",
      "0  NaN\n",
      "1  NaN\n"
     ]
    }
   ],
   "source": [
    "print (\"Deleting the first column using DEL function:\")\n",
    "del df2['Course']\n",
    "print (df2)"
   ]
  }
 ],
 "metadata": {
  "kernelspec": {
   "display_name": "Python 3",
   "language": "python",
   "name": "python3"
  },
  "language_info": {
   "codemirror_mode": {
    "name": "ipython",
    "version": 3
   },
   "file_extension": ".py",
   "mimetype": "text/x-python",
   "name": "python",
   "nbconvert_exporter": "python",
   "pygments_lexer": "ipython3",
   "version": "3.8.5"
  }
 },
 "nbformat": 4,
 "nbformat_minor": 4
}
