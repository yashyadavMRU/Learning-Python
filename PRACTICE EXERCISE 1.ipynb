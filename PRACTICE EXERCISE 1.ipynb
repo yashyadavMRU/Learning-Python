{
 "cells": [
  {
   "cell_type": "markdown",
   "metadata": {},
   "source": [
    "## Q1. WHAT IS PYTHON?"
   ]
  },
  {
   "cell_type": "code",
   "execution_count": 6,
   "metadata": {},
   "outputs": [
    {
     "name": "stdout",
     "output_type": "stream",
     "text": [
      "Python is a programming languague for web developnment, software developnment, scripting and mathematical operators.\n"
     ]
    }
   ],
   "source": [
    "print(\"Python is a programming languague for web developnment, software developnment, scripting and mathematical operators.\")"
   ]
  },
  {
   "cell_type": "markdown",
   "metadata": {},
   "source": [
    "## Q2. 5 AREAS WHERE PYTHON CAN BE USED?"
   ]
  },
  {
   "cell_type": "code",
   "execution_count": 22,
   "metadata": {},
   "outputs": [
    {
     "name": "stdout",
     "output_type": "stream",
     "text": [
      "1. Web Development. 2. Game Development. 3. Machine Learning and Artificial Intelligence. 4. Business Applications. 5. Audio and Video Applications\n"
     ]
    }
   ],
   "source": [
    "print(\"1. Web Development. 2. Game Development. 3. Machine Learning and Artificial Intelligence. 4. Business Applications. 5. Audio and Video Applications\")"
   ]
  },
  {
   "cell_type": "markdown",
   "metadata": {},
   "source": [
    "## Q3. WAP check 10 is geater than 2?"
   ]
  },
  {
   "cell_type": "code",
   "execution_count": 2,
   "metadata": {},
   "outputs": [
    {
     "name": "stdout",
     "output_type": "stream",
     "text": [
      "True\n"
     ]
    }
   ],
   "source": [
    "x = 10;\n",
    "if x > 2:\n",
    "    print(\"True\")\n",
    "else:\n",
    "    print(\"False\")\n"
   ]
  },
  {
   "cell_type": "markdown",
   "metadata": {},
   "source": [
    "## Q4. Print 3 variables x, y and z having data type int, string and boolean?"
   ]
  },
  {
   "cell_type": "code",
   "execution_count": 13,
   "metadata": {},
   "outputs": [
    {
     "name": "stdout",
     "output_type": "stream",
     "text": [
      "10\n",
      "This is a string\n",
      "True\n"
     ]
    }
   ],
   "source": [
    " x = 10; y = \"This is a string.\"; z = True;\n",
    "print(x); print(y); print(z);"
   ]
  },
  {
   "cell_type": "markdown",
   "metadata": {},
   "source": [
    "## Q5. Print 3 variables x, y and z using assignment with multiple assignment?"
   ]
  },
  {
   "cell_type": "code",
   "execution_count": 17,
   "metadata": {},
   "outputs": [
    {
     "name": "stdout",
     "output_type": "stream",
     "text": [
      "10\n",
      "This is a string.\n",
      "True\n"
     ]
    }
   ],
   "source": [
    "x, y, z = 10, \"This is a string.\", True;\n",
    "print(x); print(y); print(z);"
   ]
  },
  {
   "cell_type": "markdown",
   "metadata": {},
   "source": [
    "## Q6. Comment Q1 and Q2 with their respective questions?"
   ]
  },
  {
   "cell_type": "code",
   "execution_count": 21,
   "metadata": {},
   "outputs": [
    {
     "data": {
      "text/plain": [
       "' Q1.WHAT IS PYTHON? \\n# Q2.5 AREAS WHERE PYTHON CAN BE USED?'"
      ]
     },
     "execution_count": 21,
     "metadata": {},
     "output_type": "execute_result"
    }
   ],
   "source": [
    "\"\"\" Q1.WHAT IS PYTHON? \n",
    "# Q2.5 AREAS WHERE PYTHON CAN BE USED?\"\"\""
   ]
  },
  {
   "cell_type": "markdown",
   "metadata": {},
   "source": [
    "## Q7. Print the data type of variable defined in Q4?"
   ]
  },
  {
   "cell_type": "code",
   "execution_count": 7,
   "metadata": {},
   "outputs": [
    {
     "name": "stdout",
     "output_type": "stream",
     "text": [
      "Data type of x is  <class 'int'>\n",
      "Data type of y is  <class 'str'>\n",
      "Data type of z is  <class 'bool'>\n"
     ]
    }
   ],
   "source": [
    " x = 10; y = \"This is a string.\"; z = True;\n",
    "print(\"Data type of x is \", type(x)); print(\"Data type of y is \",type(y)); print(\"Data type of z is \",type(z));"
   ]
  },
  {
   "cell_type": "markdown",
   "metadata": {},
   "source": [
    "## Q8. Print the variales fullfilling the criteria abcd of variable name?"
   ]
  },
  {
   "cell_type": "code",
   "execution_count": 9,
   "metadata": {},
   "outputs": [
    {
     "name": "stdout",
     "output_type": "stream",
     "text": [
      "10   11   12   13   14\n"
     ]
    }
   ],
   "source": [
    "abcd = 10\n",
    "a_cd = 11\n",
    "a123 = 12\n",
    "A_Bd = 13\n",
    "_bcd = 14\n",
    "print(abcd,\" \",a_cd,\" \",a123,\" \",A_Bd,\" \",_bcd)"
   ]
  },
  {
   "cell_type": "markdown",
   "metadata": {},
   "source": [
    "## Q9. Write a program to print multiple values? "
   ]
  },
  {
   "cell_type": "code",
   "execution_count": 10,
   "metadata": {},
   "outputs": [
    {
     "name": "stdout",
     "output_type": "stream",
     "text": [
      "10   11   12   13   14\n"
     ]
    }
   ],
   "source": [
    "abcd = 10\n",
    "a_cd = 11\n",
    "a123 = 12\n",
    "A_Bd = 13\n",
    "_bcd = 14\n",
    "print(abcd,\" \",a_cd,\" \",a123,\" \",A_Bd,\" \",_bcd)"
   ]
  },
  {
   "cell_type": "markdown",
   "metadata": {},
   "source": [
    "## Q10. Print the datatype of the following?"
   ]
  },
  {
   "cell_type": "code",
   "execution_count": 21,
   "metadata": {},
   "outputs": [
    {
     "name": "stdout",
     "output_type": "stream",
     "text": [
      "Data type of A is  <class 'str'>\n",
      "Data type of B is  <class 'float'>\n",
      "Data type of C is  <class 'list'>\n",
      "Data type of D is  <class 'range'>\n",
      "Data type of E is  <class 'dict'>\n",
      "Data type of F is  <class 'bool'>\n",
      "Data type of G is  <class 'list'>\n",
      "Data type of H is  <class 'tuple'>\n",
      "Data type of I is  <class 'dict'>\n",
      "Data type of J is  <class 'set'>\n",
      "Data type of k is  <class 'bool'>\n"
     ]
    }
   ],
   "source": [
    "A = \"Hello\"\n",
    "B = 20.5\n",
    "C = [\"a\", \"b\", \"c\"]\n",
    "D = range(6)\n",
    "E = {1:\"apple\", 2:\"mango\"}\n",
    "F = True\n",
    "G = list((\"a\", \"b\", \"c\"))\n",
    "H = tuple((\"a\", \"b\", \"c\"))\n",
    "I = dict(key = \"1\", value = \"apple\")\n",
    "J = set((\"a\", \"b\", \"c\"))\n",
    "K = bool(5)\n",
    "print(\"Data type of A is \",type(A)); print(\"Data type of B is \",type(B)); print(\"Data type of C is \",type(C));\n",
    "print(\"Data type of D is \",type(D)); print(\"Data type of E is \",type(E)); print(\"Data type of F is \",type(F));\n",
    "print(\"Data type of G is \",type(G)); print(\"Data type of H is \",type(H)); print(\"Data type of I is \",type(I));\n",
    "print(\"Data type of J is \",type(J)); print(\"Data type of k is \",type(K));"
   ]
  },
  {
   "cell_type": "markdown",
   "metadata": {},
   "source": [
    "## Q11. Print 3rd, 4th and 5th character from the last?"
   ]
  },
  {
   "cell_type": "code",
   "execution_count": 1,
   "metadata": {},
   "outputs": [
    {
     "name": "stdout",
     "output_type": "stream",
     "text": [
      "D\n",
      "A\n",
      "Y\n"
     ]
    }
   ],
   "source": [
    "x = \"YASH YADAV\";\n",
    "print(x[-3]);\n",
    "print(x[-4]);\n",
    "print(x[-5]);"
   ]
  },
  {
   "cell_type": "markdown",
   "metadata": {},
   "source": [
    "## Q12. Print 3rd, 4th and 5th character from the start?"
   ]
  },
  {
   "cell_type": "code",
   "execution_count": 3,
   "metadata": {},
   "outputs": [
    {
     "name": "stdout",
     "output_type": "stream",
     "text": [
      "H\n",
      " \n",
      "Y\n"
     ]
    }
   ],
   "source": [
    "x = \"YASH YADAV\"\n",
    "print(x[3])\n",
    "print(x[4])\n",
    "print(x[5])"
   ]
  },
  {
   "cell_type": "code",
   "execution_count": null,
   "metadata": {},
   "outputs": [],
   "source": []
  }
 ],
 "metadata": {
  "kernelspec": {
   "display_name": "Python 3",
   "language": "python",
   "name": "python3"
  },
  "language_info": {
   "codemirror_mode": {
    "name": "ipython",
    "version": 3
   },
   "file_extension": ".py",
   "mimetype": "text/x-python",
   "name": "python",
   "nbconvert_exporter": "python",
   "pygments_lexer": "ipython3",
   "version": "3.8.5"
  }
 },
 "nbformat": 4,
 "nbformat_minor": 4
}
