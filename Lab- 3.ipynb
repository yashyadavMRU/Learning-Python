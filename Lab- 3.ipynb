{
 "cells": [
  {
   "cell_type": "markdown",
   "metadata": {},
   "source": [
    "## Q1. Write a python progarm ot demonestrate while loop with else statement?"
   ]
  },
  {
   "cell_type": "code",
   "execution_count": 2,
   "metadata": {},
   "outputs": [
    {
     "name": "stdout",
     "output_type": "stream",
     "text": [
      "enter number5\n",
      "it is executed\n"
     ]
    }
   ],
   "source": [
    "a=int(input(\"enter number\"))\n",
    "i=0\n",
    "while i<a:\n",
    "    if i==10:\n",
    "        print(\"Else part will not execute\")\n",
    "        break\n",
    "    i=i+1\n",
    "else:\n",
    "    print(\"it is executed\")"
   ]
  },
  {
   "cell_type": "markdown",
   "metadata": {},
   "source": [
    "## Q2. Write a python program to print 1st 5 even numbers(use break statment)?"
   ]
  },
  {
   "cell_type": "code",
   "execution_count": 4,
   "metadata": {},
   "outputs": [],
   "source": [
    "i = 1\n",
    "count = 1\n",
    "while count<=5:\n",
    "    if i%2==0:\n",
    "        print(i)\n",
    "        i += 1\n",
    "        count+=1\n",
    "    elif (i%2!=0):\n",
    "        i+=1\n",
    "    break\n",
    "        "
   ]
  },
  {
   "cell_type": "markdown",
   "metadata": {},
   "source": [
    "## Q3. Write a python program to print 1st 4 even numbers(use continue statment)?"
   ]
  },
  {
   "cell_type": "code",
   "execution_count": 1,
   "metadata": {},
   "outputs": [
    {
     "name": "stdout",
     "output_type": "stream",
     "text": [
      "2\n",
      "4\n",
      "6\n",
      "8\n"
     ]
    }
   ],
   "source": [
    "i = 1\n",
    "count = 1\n",
    "while count<=4:\n",
    "    if i%2==0:\n",
    "        print(i)\n",
    "        i += 1\n",
    "        count+=1\n",
    "    elif (i%2!=0):\n",
    "        i+=1\n",
    "        continue\n",
    "        "
   ]
  },
  {
   "cell_type": "markdown",
   "metadata": {},
   "source": [
    "## Q4. Write a python program to demonstrate pass statement?"
   ]
  },
  {
   "cell_type": "code",
   "execution_count": 11,
   "metadata": {},
   "outputs": [
    {
     "name": "stdout",
     "output_type": "stream",
     "text": [
      "18\n"
     ]
    }
   ],
   "source": [
    "x = 18 \n",
    "if x>18:\n",
    "    pass\n",
    "    \n",
    "print(x)"
   ]
  },
  {
   "cell_type": "markdown",
   "metadata": {},
   "source": [
    "## Q5. Write a python proogram to calculate the length of a string?"
   ]
  },
  {
   "cell_type": "code",
   "execution_count": 10,
   "metadata": {},
   "outputs": [
    {
     "name": "stdout",
     "output_type": "stream",
     "text": [
      "Enter a string: yash\n",
      "The length of string is: 4\n"
     ]
    }
   ],
   "source": [
    "str1 = input(\"Enter a string: \")\n",
    "print(\"The length of string is:\", len(str1))"
   ]
  },
  {
   "cell_type": "markdown",
   "metadata": {},
   "source": [
    "## Q6. Write a python program to calculate the number of characters (character frequency) in a string?"
   ]
  },
  {
   "cell_type": "code",
   "execution_count": 4,
   "metadata": {},
   "outputs": [
    {
     "name": "stdout",
     "output_type": "stream",
     "text": [
      "Enter a string: the string is immutable in python\n",
      "6\n"
     ]
    }
   ],
   "source": [
    "a = input(\"Enter a string: \")\n",
    "count = 1\n",
    "for i in a:\n",
    "    if i==\" \":\n",
    "        count+=1\n",
    "    else:\n",
    "        continue\n",
    "\n",
    "print(count)"
   ]
  },
  {
   "cell_type": "markdown",
   "metadata": {},
   "source": [
    "## Q7. Write a python program to a string made of the first 2 and the last 2 cahrs from a given string. If the string is less than 2, return instead of empty string ?"
   ]
  },
  {
   "cell_type": "code",
   "execution_count": null,
   "metadata": {},
   "outputs": [],
   "source": [
    "n = input(\"Enter a string: \")\n",
    "if len(n)>2:\n",
    "    "
   ]
  },
  {
   "cell_type": "markdown",
   "metadata": {},
   "source": [
    "## Q8. Write a python program to get a string from a given string where all occurrences of its char have been changed to '$', except the first char itself?"
   ]
  },
  {
   "cell_type": "code",
   "execution_count": 1,
   "metadata": {},
   "outputs": [
    {
     "name": "stdout",
     "output_type": "stream",
     "text": [
      "Enter a string: \n",
      "i am yash\n",
      "The new string is  i am yash\n"
     ]
    }
   ],
   "source": [
    "print(\"Enter a string: \")\n",
    "str1=input()\n",
    "char1=str1[0]\n",
    "new_str=str1.replace(char1,\"$\")\n",
    "print (\"The new string is:\",char1+new_str[1:])"
   ]
  },
  {
   "cell_type": "markdown",
   "metadata": {},
   "source": [
    "## Q9. Write a python program to get a string from two given strings, seperated by a space and swap the first two characters of each string?"
   ]
  },
  {
   "cell_type": "code",
   "execution_count": 7,
   "metadata": {},
   "outputs": [
    {
     "name": "stdout",
     "output_type": "stream",
     "text": [
      "This is the first string. This is the second string.\n"
     ]
    }
   ],
   "source": [
    "str1 = \"This is the first string.\"\n",
    "str2 = \"This is the second string.\"\n",
    "str_new = str1 + \" \" + str2\n",
    "print(str_new)"
   ]
  },
  {
   "cell_type": "markdown",
   "metadata": {},
   "source": [
    "## Q10. Write a python program to add 'ing' at teh end of a given string(length shoud be at least 3). If the given string already ends with 'ing' then add 'ly' instead. If the length of the given string is less then 3, leave it unchanged?"
   ]
  },
  {
   "cell_type": "code",
   "execution_count": 11,
   "metadata": {},
   "outputs": [
    {
     "name": "stdout",
     "output_type": "stream",
     "text": [
      "Enter a string: i am studinting\n",
      "i am studintingly\n"
     ]
    }
   ],
   "source": [
    "str1 = input(\"Enter a string: \")\n",
    "str3 = \"ing\"\n",
    "if len(str1)<3:\n",
    "    print(str1)\n",
    "elif str1[-3:] == str3:\n",
    "    str2 = str1 + \"ly\"\n",
    "    print(str2)\n",
    "else:\n",
    "    str2 = str1 + \"ing\"\n",
    "    print(str2)\n"
   ]
  }
 ],
 "metadata": {
  "kernelspec": {
   "display_name": "Python 3",
   "language": "python",
   "name": "python3"
  },
  "language_info": {
   "codemirror_mode": {
    "name": "ipython",
    "version": 3
   },
   "file_extension": ".py",
   "mimetype": "text/x-python",
   "name": "python",
   "nbconvert_exporter": "python",
   "pygments_lexer": "ipython3",
   "version": "3.8.5"
  }
 },
 "nbformat": 4,
 "nbformat_minor": 4
}
