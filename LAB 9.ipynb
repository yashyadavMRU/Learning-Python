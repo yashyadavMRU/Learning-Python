{
 "cells": [
  {
   "cell_type": "markdown",
   "metadata": {},
   "source": [
    "## LAB 9"
   ]
  },
  {
   "cell_type": "markdown",
   "metadata": {},
   "source": [
    "1. Write a Python program that has a class Animal with a method legs(). Create two subclasses Tiger and Dog, access the method    leg explicitly with class Dog and implicitly with the class Tiger.  \n"
   ]
  },
  {
   "cell_type": "code",
   "execution_count": 34,
   "metadata": {},
   "outputs": [],
   "source": [
    "class animal:\n",
    "    def __init__(self, legs_tiger,legs_dog):\n",
    "        self.legs_tiger = legs_tiger\n",
    "        self.legs_dog = legs_dog\n",
    "    def view(self):\n",
    "        print(self.legs_dog,self.legs_tiger)\n",
    "\n",
    "class tiger(animal):\n",
    "    \n",
    "    def __init__(self, legs_tiger):\n",
    "        self.legs_tiger = '4'\n",
    "    def view(self):\n",
    "        print(self.legs_tiger)\n",
    "\n",
    "class dog(animal):\n",
    "    \n",
    "    def __init__(self, legs_dog):\n",
    "        self.legs_dog = '4'\n",
    "    def view(self):\n",
    "        print(self.legs_dog)\n",
    "obj1 = tiger(4)\n",
    "obj2 = dog(4)"
   ]
  },
  {
   "cell_type": "markdown",
   "metadata": {},
   "source": [
    "2. Write a Python program to create a class Employee. Define two subclasses: Engineer and Manager. Every class should have method named printDesignation() that prints Engineer for Engineer class and Manager for Manager Class."
   ]
  },
  {
   "cell_type": "code",
   "execution_count": 4,
   "metadata": {},
   "outputs": [
    {
     "name": "stdout",
     "output_type": "stream",
     "text": [
      "manager\n",
      "engineer\n"
     ]
    }
   ],
   "source": [
    "class employee:\n",
    "    class engineer:\n",
    "        def printdesignation():\n",
    "            print(\"engineer\")\n",
    "    class manager:\n",
    "        def printdesignation():\n",
    "            print(\"manager\")\n",
    "e1=employee()\n",
    "e1.manager.printdesignation()\n",
    "e1.engineer.printdesignation()"
   ]
  },
  {
   "cell_type": "markdown",
   "metadata": {},
   "source": [
    "3. Write a Python program to demonstrate classes and their attributes.\n"
   ]
  },
  {
   "cell_type": "code",
   "execution_count": 23,
   "metadata": {},
   "outputs": [
    {
     "name": "stdout",
     "output_type": "stream",
     "text": [
      "Dictionary form : {'name': 'xyz', 'salary': 4000}\n",
      "['__class__', '__delattr__', '__dict__', '__dir__', '__doc__', '__eq__', '__format__', '__ge__', '__getattribute__', '__gt__', '__hash__', '__init__', '__init_subclass__', '__le__', '__lt__', '__module__', '__ne__', '__new__', '__reduce__', '__reduce_ex__', '__repr__', '__setattr__', '__sizeof__', '__str__', '__subclasshook__', '__weakref__', 'name', 'salary', 'show']\n"
     ]
    }
   ],
   "source": [
    "class emp:\n",
    "    def __init__(self):\n",
    "        self.name = 'xyz'\n",
    "        self.salary = 4000\n",
    "  \n",
    "    def show(self):\n",
    "        print(self.name)\n",
    "        print(self.salary)\n",
    "  \n",
    "e1 = emp()\n",
    "print(\"Dictionary form :\", vars(e1))\n",
    "print(dir(e1))"
   ]
  },
  {
   "cell_type": "markdown",
   "metadata": {},
   "source": [
    "4. Write a Python program to demonstrate Inheritance and method overriding.\n"
   ]
  },
  {
   "cell_type": "code",
   "execution_count": 29,
   "metadata": {},
   "outputs": [
    {
     "name": "stdout",
     "output_type": "stream",
     "text": [
      "I'm Tisha\n",
      "I'm inside child class\n"
     ]
    }
   ],
   "source": [
    "class Parent():\n",
    "    def __init__(self):\n",
    "        self.value = \"I'm Tisha\"\n",
    "    def show(self):\n",
    "        print(self.value)\n",
    "          \n",
    "class Child(Parent):\n",
    "    def __init__(self):\n",
    "        self.value = \"I'm inside child class\"\n",
    "    def show(self):\n",
    "        print(self.value)\n",
    "          \n",
    "obj1 = Parent()\n",
    "obj2 = Child()\n",
    "  \n",
    "obj1.show()\n",
    "obj2.show()"
   ]
  },
  {
   "cell_type": "markdown",
   "metadata": {},
   "source": [
    "5. Write a Python program to demonstrate multiple Inheritance.\n"
   ]
  },
  {
   "cell_type": "code",
   "execution_count": 28,
   "metadata": {},
   "outputs": [
    {
     "name": "stdout",
     "output_type": "stream",
     "text": [
      "Anubhav 19\n",
      "Tisha 18\n"
     ]
    }
   ],
   "source": [
    "class section_A:\n",
    "    def __init__(self,name,age):\n",
    "        self.name = name\n",
    "        self.age = age\n",
    "    def view(self):\n",
    "        print(self.name, self.age)\n",
    "        \n",
    "class section_B(section_A):\n",
    "    def __init__(self,name2,age2):\n",
    "        self.name2 = name2\n",
    "        self.age2 = age2\n",
    "    def view(self):\n",
    "        print(self.name2, self.age2)\n",
    "class student(section_B):\n",
    "    def __init__(self,name,age):\n",
    "        print(self.name2,self.age2)\n",
    "obj1 = section_A('Anubhav',19)\n",
    "obj2 = section_B('Tisha',18)\n",
    "obj1.view()\n",
    "obj2.view()\n",
    "    "
   ]
  }
 ],
 "metadata": {
  "kernelspec": {
   "display_name": "Python 3",
   "language": "python",
   "name": "python3"
  },
  "language_info": {
   "codemirror_mode": {
    "name": "ipython",
    "version": 3
   },
   "file_extension": ".py",
   "mimetype": "text/x-python",
   "name": "python",
   "nbconvert_exporter": "python",
   "pygments_lexer": "ipython3",
   "version": "3.8.5"
  }
 },
 "nbformat": 4,
 "nbformat_minor": 4
}
